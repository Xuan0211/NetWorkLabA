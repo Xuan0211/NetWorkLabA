{
 "cells": [
  {
   "attachments": {},
   "cell_type": "markdown",
   "id": "8c463192",
   "metadata": {},
   "source": [
    "## import socket module"
   ]
  },
  {
   "cell_type": "code",
   "execution_count": null,
   "id": "2a95e892",
   "metadata": {},
   "outputs": [],
   "source": [
    "from socket import *"
   ]
  },
  {
   "attachments": {},
   "cell_type": "markdown",
   "id": "7fa3ac55",
   "metadata": {},
   "source": [
    "### 建立一个套接字对象\n",
    "在Python中，import socket后，用socket.socket()方法来创建套接字"
   ]
  },
  {
   "cell_type": "code",
   "execution_count": null,
   "id": "97d069c6",
   "metadata": {},
   "outputs": [],
   "source": [
    "serverSocket = socket(AF_INET, SOCK_STREAM) "
   ]
  },
  {
   "attachments": {},
   "cell_type": "markdown",
   "id": "54a6b1c0",
   "metadata": {},
   "source": [
    "# Prepare a sever socket \n",
    "## bind((hostname, port))\n",
    "在指定主机的端口绑定监听\n",
    "## listen()\n",
    "在绑定端口上开启监听，参数表示最大等待建立连接的个数"
   ]
  },
  {
   "cell_type": "code",
   "execution_count": null,
   "id": "f1b7494d",
   "metadata": {},
   "outputs": [],
   "source": [
    "PORT=3005\n",
    "serverSocket.bind(('192.168.127.128', PORT)) # 将TCP欢迎套接字绑定到指定端口\n",
    "serverSocket.listen(1) # 最大连接数为1\n",
    "print('server ready!')"
   ]
  },
  {
   "attachments": {},
   "cell_type": "markdown",
   "id": "e9d70023",
   "metadata": {},
   "source": [
    "## accept()\n",
    "\n",
    "等待客户端连接，连接后返回客户端地址\n",
    "\n",
    "## recv(buffer)\n",
    "表示接收数据, buffersize 是每次接收数据的长度"
   ]
  },
  {
   "cell_type": "code",
   "execution_count": null,
   "id": "b6dd14c7",
   "metadata": {
    "scrolled": true
   },
   "outputs": [],
   "source": [
    "while True:     \n",
    "    #Establish the connection    \n",
    "    print('Ready to serve...')     \n",
    "    connectionSocket, addr = serverSocket.accept()# 接收到客户连接请求后，建立新的TCP连接套接字\n",
    "    #print(connectionSocket,addr)    \n",
    "    try:  \n",
    "        message = connectionSocket.recv(1024) \n",
    "        print(message)\n",
    "        # 获取客户发送的报文\n",
    "        filename = message.split()[1]\n",
    "        print(filename)\n",
    "        f = open(filename[1:])\n",
    "        outputdata = f.read()\n",
    "        #Send one HTTP header line into socket  \n",
    "        header = 'HTTP/1.1 200 OK'        \n",
    "        #Send the content of the requested file to the client        \n",
    "        connectionSocket.send(header.encode())\n",
    "        connectionSocket.send(outputdata.encode())\n",
    "        connectionSocket.close()\n",
    "    except IOError:\n",
    "        #Send response message for file not found\n",
    "        print('not found')\n",
    "        f = open(\"404error.html\")\n",
    "        outputdata = f.read()\n",
    "        # print(outputdata)\n",
    "        header = ' HTTP/1.1 404 Not Found'\n",
    "        connectionSocket.send(header.encode())\n",
    "        connectionSocket.send(outputdata.encode())\n",
    "        #Close client socket\n",
    "        connectionSocket.close()            \n"
   ]
  },
  {
   "attachments": {},
   "cell_type": "markdown",
   "id": "d58fef13",
   "metadata": {},
   "source": [
    "## close()\n",
    "\n",
    "关闭套接字连接"
   ]
  },
  {
   "cell_type": "code",
   "execution_count": null,
   "id": "079258fd",
   "metadata": {},
   "outputs": [],
   "source": [
    "serverSocket.close()"
   ]
  },
  {
   "cell_type": "code",
   "execution_count": null,
   "id": "f1792044",
   "metadata": {},
   "outputs": [],
   "source": []
  }
 ],
 "metadata": {
  "kernelspec": {
   "display_name": "Python 3 (ipykernel)",
   "language": "python",
   "name": "python3"
  },
  "language_info": {
   "codemirror_mode": {
    "name": "ipython",
    "version": 3
   },
   "file_extension": ".py",
   "mimetype": "text/x-python",
   "name": "python",
   "nbconvert_exporter": "python",
   "pygments_lexer": "ipython3",
   "version": "3.8.10"
  }
 },
 "nbformat": 4,
 "nbformat_minor": 5
}
